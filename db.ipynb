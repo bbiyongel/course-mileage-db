{
 "cells": [
  {
   "cell_type": "code",
   "execution_count": null,
   "metadata": {
    "colab": {},
    "colab_type": "code",
    "id": "OyqYy8X2fspf"
   },
   "outputs": [],
   "source": [
    "import pymysql\n",
    "import requests\n",
    "from bs4 import BeautifulSoup"
   ]
  },
  {
   "cell_type": "markdown",
   "metadata": {},
   "source": [
    "### Crawl College Numbers"
   ]
  },
  {
   "cell_type": "code",
   "execution_count": null,
   "metadata": {
    "colab": {},
    "colab_type": "code",
    "id": "ka5OeL5rfspk"
   },
   "outputs": [],
   "source": [
    "url = 'http://ysweb.yonsei.ac.kr:8888/curri120601/curri_new.jsp#top'\n",
    "res = requests.get(url)\n",
    "soup = BeautifulSoup(res.text, 'lxml')\n",
    "college_tags = soup.select('#OCODE1 option')\n",
    "college_names = []\n",
    "college_nos = []\n",
    "for college_tag in college_tags:\n",
    "    college_names.append(college_tag.text)\n",
    "    college_nos.append(college_tag.attrs['value'])"
   ]
  },
  {
   "cell_type": "markdown",
   "metadata": {},
   "source": [
    "### searchKey_crawler"
   ]
  },
  {
   "cell_type": "code",
   "execution_count": null,
   "metadata": {
    "colab": {},
    "colab_type": "code",
    "id": "TaIMhLPvfspp"
   },
   "outputs": [],
   "source": [
    "def searchkey_crawler(college_no,year,semester):\n",
    "    url = \"http://ysweb.yonsei.ac.kr:8888/DataAgent?pgm=/curri120601/curri_Data&DmlGb=get_list&ocode0=s1&ocode1=\"+college_no+\"&s2=all&schHakjum=all&hy=\"+year+\"&hg=\"+semester+\"&lang=0&filterscount=0&groupscount=0&pagenum=0&pagesize=15&recordstartindex=0&recordendindex=34.56\"\n",
    "    header =  {\"Referer\" : \"http://ysweb.yonsei.ac.kr:8888/curri120601/curri_new.jsp\"}\n",
    "    response = requests.get(url, headers = header)\n",
    "    result = []\n",
    "    for data in response.json()['Data']:\n",
    "        searchdict = {'yshs_domain': data['DOMAIN'],\n",
    "                      'yshs_hyhg': data['HYHG'],\n",
    "                      'yshs_hakno': data['HAKBBSBB'].split('-')[0],\n",
    "                      'yshs_bb': data['HAKBBSBB'].split('-')[1],\n",
    "                      'yshs_sbb': data['HAKBBSBB'].split('-')[2]}\n",
    "        result.append(searchdict)\n",
    "    return(result)"
   ]
  },
  {
   "cell_type": "markdown",
   "metadata": {},
   "source": [
    "### page_crawler"
   ]
  },
  {
   "cell_type": "code",
   "execution_count": null,
   "metadata": {
    "colab": {},
    "colab_type": "code",
    "id": "VnkN0MKcfspr"
   },
   "outputs": [],
   "source": [
    "def page_crawler(params):\n",
    "    url= \"http://ysweb.yonsei.ac.kr:8888/curri120601/curri_pop_mileage_result01.jsp\"\n",
    "    response = requests.post(url=url,data=params)\n",
    "    soup = BeautifulSoup(response.text, 'html.parser')\n",
    "    syllabus = []\n",
    "    if len(soup.findAll('tr')) < 4:\n",
    "        return [], []\n",
    "    for tds in soup.findAll('tr')[4].findAll('td'):\n",
    "        syllabus.append(tds.text)\n",
    "    mileages = []\n",
    "    for trs in soup.findAll('tr')[6].findAll('tr'):\n",
    "        row = [params['yshs_domain'],params['yshs_hyhg'],params['yshs_hakno'],params['yshs_bb'],params['yshs_sbb']]\n",
    "        for tds in trs.findAll('td'):\n",
    "            row.append(tds.text)\n",
    "        mileages.append(row)\n",
    "    return syllabus, mileages"
   ]
  },
  {
   "cell_type": "markdown",
   "metadata": {},
   "source": [
    "### Create Database `sugang_db`"
   ]
  },
  {
   "cell_type": "code",
   "execution_count": null,
   "metadata": {},
   "outputs": [],
   "source": [
    "myhost = 'localhost'\n",
    "myport = 3306\n",
    "myuser = 'root'\n",
    "mypasswd = 'password'\n",
    "mydb = 'sugang_db'"
   ]
  },
  {
   "cell_type": "code",
   "execution_count": null,
   "metadata": {},
   "outputs": [],
   "source": [
    "conn = pymysql.connect(\n",
    "    host=myhost,\n",
    "    port=myport,\n",
    "    user=myuser,\n",
    "    password=mypasswd,\n",
    "    charset='utf8'\n",
    ")\n",
    "\n",
    "try:\n",
    "    with conn.cursor() as cursor:\n",
    "        sql = \"CREATE DATABASE \" + mydb\n",
    "        cursor.execute(sql)\n",
    "        sql = \"SHOW DATABASES\"\n",
    "        cursorInstance.execute(sql)\n",
    "        dbList = cursorInstance.fetchall()\n",
    "        print(dbList)\n",
    "except Exception as err:\n",
    "    print(\"Error:\", err)\n",
    "finally:\n",
    "    conn.close()"
   ]
  },
  {
   "cell_type": "markdown",
   "metadata": {},
   "source": [
    "### Create Table `syllabi`"
   ]
  },
  {
   "cell_type": "code",
   "execution_count": null,
   "metadata": {
    "colab": {},
    "colab_type": "code",
    "id": "4Q04Niodfspv"
   },
   "outputs": [],
   "source": [
    "conn = pymysql.connect(\n",
    "    host=myhost, \n",
    "    port=myport, \n",
    "    user=myuser,\n",
    "    password=mypasswd,\n",
    "    db=mydb,\n",
    "    charset='utf8',\n",
    ")\n",
    "\n",
    "try:\n",
    "    with conn.cursor() as cursor:\n",
    "        sql = '''CREATE TABLE syllabi (\n",
    "                hyhg             INT          NOT NULL,\n",
    "                course_code      VARCHAR(255) NOT NULL,\n",
    "                course_title     VARCHAR(255) NOT NULL,\n",
    "                credit           INT          NOT NULL,\n",
    "                instructor       VARCHAR(255) NOT NULL,\n",
    "                time             VARCHAR(255) NOT NULL,\n",
    "                room             VARCHAR(255) NOT NULL,\n",
    "                quota            INT          NOT NULL,\n",
    "                participants     VARCHAR(255) NOT NULL,\n",
    "                major_quota      INT          NOT NULL, \n",
    "                second_major     VARCHAR(255) NOT NULL,\n",
    "                grade_1          INT          NOT NULL,\n",
    "                grade_2          INT          NOT NULL, \n",
    "                grade_3          INT          NOT NULL, \n",
    "                grade_4          INT          NOT NULL, \n",
    "                exchange_student VARCHAR(255) NOT NULL, \n",
    "                max_mileage      INT          NOT NULL, \n",
    "                min_result       INT          NOT NULL, \n",
    "                max_result       INT          NOT NULL, \n",
    "                average          FLOAT        NOT NULL\n",
    "               )'''\n",
    "        cursor.execute(sql)\n",
    "    conn.commit()\n",
    "except Exception as err:\n",
    "    print(\"Error:\", err)\n",
    "finally:\n",
    "    conn.close()"
   ]
  },
  {
   "cell_type": "markdown",
   "metadata": {},
   "source": [
    "### Create Table `mileages`"
   ]
  },
  {
   "cell_type": "code",
   "execution_count": null,
   "metadata": {
    "colab": {},
    "colab_type": "code",
    "id": "-ag9nwpufspx"
   },
   "outputs": [],
   "source": [
    "conn = pymysql.connect(\n",
    "    host=myhost, \n",
    "    port=myport, \n",
    "    user=myuser,\n",
    "    password=mypasswd,\n",
    "    db=mydb,\n",
    "    charset='utf8',\n",
    ")\n",
    "\n",
    "try:\n",
    "    with conn.cursor() as cursor:\n",
    "        sql = '''CREATE TABLE mileages (\n",
    "                domain                VARCHAR(255) NOT NULL, \n",
    "                hyhg                  INT          NOT NULL, \n",
    "                hakno                 VARCHAR(255) NOT NULL, \n",
    "                bb                    INT          NOT NULL, \n",
    "                sbb                   INT          NOT NULL, \n",
    "                rank                  INT          NOT NULL, \n",
    "                mileages              INT          NOT NULL, \n",
    "                major                 VARCHAR(255) NOT NULL,\n",
    "                double_major          VARCHAR(255) NOT NULL, \n",
    "                enrolled_courses      INT          NOT NULL, \n",
    "                graduation            VARCHAR(255) NOT NULL, \n",
    "                first_enroll          VARCHAR(255) NOT NULL, \n",
    "                credits_rate          FLOAT        NOT NULL, \n",
    "                previous_credits_rate FLOAT        NOT NULL, \n",
    "                grade                 INT          NOT NULL, \n",
    "                enrolled              VARCHAR(255) NOT NULL, \n",
    "                etc                   VARCHAR(255) NULL\n",
    "               )'''\n",
    "        cursor.execute(sql)\n",
    "    conn.commit()\n",
    "except Exception as err:\n",
    "    print(\"Error:\", err)\n",
    "finally:\n",
    "    conn.close()"
   ]
  },
  {
   "cell_type": "markdown",
   "metadata": {},
   "source": [
    "### Show Tables"
   ]
  },
  {
   "cell_type": "code",
   "execution_count": null,
   "metadata": {},
   "outputs": [],
   "source": [
    "conn = pymysql.connect(\n",
    "    host=myhost,\n",
    "    port=myport,\n",
    "    user=myuser,\n",
    "    password=mypasswd,\n",
    "    db=mydb,\n",
    "    charset='utf8'\n",
    ")\n",
    "\n",
    "try:\n",
    "    with conn.cursor() as cursor:\n",
    "        sql = \"SHOW TABLES\"\n",
    "        cursor.execute(sql)\n",
    "        tableList = cursor.fetchall()\n",
    "        print(tableList)\n",
    "except Exception as err:\n",
    "    print(\"Error:\", err)\n",
    "finally:\n",
    "    conn.close()"
   ]
  },
  {
   "cell_type": "markdown",
   "metadata": {},
   "source": [
    "### Preprocess"
   ]
  },
  {
   "cell_type": "code",
   "execution_count": null,
   "metadata": {
    "colab": {},
    "colab_type": "code",
    "id": "tp6SQg-afspy"
   },
   "outputs": [],
   "source": [
    "def syllabus_preprocess(syllabus):\n",
    "    major_split = syllabus[9].split(' ')\n",
    "    syllabus[9] = major_split[0]\n",
    "    syllabus.insert(10, major_split[1][1:-1])\n",
    "    return tuple(syllabus)"
   ]
  },
  {
   "cell_type": "code",
   "execution_count": null,
   "metadata": {
    "colab": {},
    "colab_type": "code",
    "id": "L9JbpWFHfsp0"
   },
   "outputs": [],
   "source": [
    "def mileage_preprocess(mileage):\n",
    "    major_split = mileage[7].split(' ')\n",
    "    mileage[7] = major_split[0]\n",
    "    mileage.insert(8, major_split[1][1:-1])\n",
    "    return tuple(mileage)"
   ]
  },
  {
   "cell_type": "markdown",
   "metadata": {},
   "source": [
    "### Insert Data into Table `syllabi`"
   ]
  },
  {
   "cell_type": "code",
   "execution_count": null,
   "metadata": {
    "colab": {},
    "colab_type": "code",
    "id": "gPbr8Yl9fsp2"
   },
   "outputs": [],
   "source": [
    "def insert_syllabus(result):\n",
    "    try:\n",
    "        with conn.cursor() as cursor:\n",
    "            sql = 'INSERT INTO syllabi VALUES (' + '%s, ' * 19 + '%s)'\n",
    "            cursor.execute(sql, result)\n",
    "        conn.commit()\n",
    "    except Exception as err:\n",
    "        print(\"Error:\", err)"
   ]
  },
  {
   "cell_type": "markdown",
   "metadata": {},
   "source": [
    "### Insert Data into Table `mileages`"
   ]
  },
  {
   "cell_type": "code",
   "execution_count": null,
   "metadata": {
    "colab": {},
    "colab_type": "code",
    "id": "oBSOJlOofsp4"
   },
   "outputs": [],
   "source": [
    "def insert_mileage(result):\n",
    "    try:\n",
    "        with conn.cursor() as cursor:\n",
    "            sql = 'INSERT INTO mileages VALUES (' + '%s, ' * 16 + '%s)'\n",
    "            cursor.execute(sql, result)\n",
    "        conn.commit()\n",
    "    except Exception as err:\n",
    "        print(\"Error:\", err)"
   ]
  },
  {
   "cell_type": "markdown",
   "metadata": {},
   "source": [
    "### Crawling"
   ]
  },
  {
   "cell_type": "code",
   "execution_count": null,
   "metadata": {
    "colab": {},
    "colab_type": "code",
    "id": "hrBV-kkLfspt"
   },
   "outputs": [],
   "source": [
    "years = ['2016', '2017', '2018', '2019', '2020']\n",
    "semesters = ['1', '2']"
   ]
  },
  {
   "cell_type": "code",
   "execution_count": null,
   "metadata": {
    "colab": {},
    "colab_type": "code",
    "id": "jtS6_tbvfsp5"
   },
   "outputs": [],
   "source": [
    "conn = pymysql.connect(\n",
    "    host=myhost,\n",
    "    port=myport,\n",
    "    user=myuser,\n",
    "    password=mypasswd,\n",
    "    db=mydb,\n",
    "    charset='utf8'\n",
    ")\n",
    "\n",
    "for year in years:\n",
    "    for semester in semesters:\n",
    "        if (year == '2020') and (semester == '2'):\n",
    "            break\n",
    "        for college_no in college_nos:\n",
    "            print(year, semester, college_no)\n",
    "            searchparams = searchkey_crawler(college_no, year, semester)\n",
    "            for i in searchparams:\n",
    "                crawl = page_crawler(i)\n",
    "                if crawl == -1:\n",
    "                    continue\n",
    "                syllabus, mileages = crawl\n",
    "                if len(syllabus) < 18:\n",
    "                    continue\n",
    "                insert_syllabus(syllabus_preprocess([year+semester]+syllabus))\n",
    "                for mileage in mileages:\n",
    "                    insert_mileage(mileage_preprocess(mileage))\n",
    "                    \n",
    "conn.close()"
   ]
  }
 ],
 "metadata": {
  "colab": {
   "name": "crawl_mysql_2.ipynb",
   "provenance": []
  },
  "kernelspec": {
   "display_name": "Python 3",
   "language": "python",
   "name": "python3"
  },
  "language_info": {
   "codemirror_mode": {
    "name": "ipython",
    "version": 3
   },
   "file_extension": ".py",
   "mimetype": "text/x-python",
   "name": "python",
   "nbconvert_exporter": "python",
   "pygments_lexer": "ipython3",
   "version": "3.6.9"
  }
 },
 "nbformat": 4,
 "nbformat_minor": 1
}
